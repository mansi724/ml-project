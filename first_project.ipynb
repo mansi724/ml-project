{
 "cells": [
  {
   "cell_type": "markdown",
   "id": "6d3c2211",
   "metadata": {},
   "source": [
    "# DATAFRAME"
   ]
  },
  {
   "cell_type": "code",
   "execution_count": 30,
   "id": "4ccf8e3e",
   "metadata": {},
   "outputs": [
    {
     "name": "stdout",
     "output_type": "stream",
     "text": [
      "      Name  Gender   Age Education\n",
      "0  Anushka  Female  26.0        UG\n",
      "1   Raghav    Male  35.0        PG\n",
      "2    Arnav   Other  12.0       PhD\n",
      "3    Priya  Female  19.0        PG\n",
      "4  Katrina  Female   NaN       PhD\n",
      "5    David   Other  56.0       PhD\n",
      "6  Himansh    Male  32.0        UG\n",
      "7   Sachin    Male  36.0        UG\n",
      "8  Srishti  Female   9.0        PG\n",
      "9    Krish    Male  24.0       PhD\n"
     ]
    }
   ],
   "source": [
    "import pandas as pd \n",
    "import numpy as np\n",
    "student_data = {\n",
    "    'Name' :   ['Anushka' , 'Raghav' , 'Arnav' ,' Priya' , 'Katrina' , 'David' , 'Himansh' , 'Sachin' , 'Srishti' , 'Krish'] ,\n",
    "    'Gender' : ['Female' , 'Male' , 'Other' , 'Female' , 'Female' , 'Other' , 'Male' , 'Male' , 'Female' , 'Male'] , \n",
    "    'Age' : [26 , 35 , 12 , 19 , np.nan ,56,32 , 36 , 9 , 24 ] , \n",
    "    'Education' : ['UG' , 'PG' , 'PhD' , 'PG' , 'PhD' , 'PhD' , 'UG' , 'UG' , 'PG' , 'PhD' ]\n",
    "\n",
    "}\n",
    "\n",
    "data = pd.DataFrame(student_data)\n",
    "print(data)\n",
    "\n"
   ]
  },
  {
   "cell_type": "markdown",
   "id": "44ee8547",
   "metadata": {},
   "source": [
    "# IMPUTATION"
   ]
  },
  {
   "cell_type": "code",
   "execution_count": null,
   "id": "c09c6cc0",
   "metadata": {},
   "outputs": [
    {
     "name": "stdout",
     "output_type": "stream",
     "text": [
      "      Name  Gender        Age Education\n",
      "0  Anushka  Female  26.000000        UG\n",
      "1   Raghav    Male  35.000000        PG\n",
      "2    Arnav   Other  12.000000       PhD\n",
      "3    Priya  Female  19.000000        PG\n",
      "4  Katrina  Female  27.666667       PhD\n",
      "5    David   Other  56.000000       PhD\n",
      "6  Himansh    Male  32.000000        UG\n",
      "7   Sachin    Male  36.000000        UG\n",
      "8  Srishti  Female   9.000000        PG\n",
      "9    Krish    Male  24.000000       PhD\n"
     ]
    }
   ],
   "source": [
    "mean_age = data['Age'].mean()\n",
    "data['Age'] = data['Age'].fillna(mean_age)\n",
    "print(data)\n"
   ]
  },
  {
   "cell_type": "code",
   "execution_count": null,
   "id": "dc4ed515",
   "metadata": {},
   "outputs": [
    {
     "name": "stdout",
     "output_type": "stream",
     "text": [
      "      Name  Gender        Age Education\n",
      "0  Anushka  Female  26.000000        UG\n",
      "1   Raghav    Male  35.000000        PG\n",
      "2    Arnav   Other  12.000000       PhD\n",
      "3    Priya  Female  19.000000        PG\n",
      "4  Katrina  Female  27.666667       PhD\n",
      "5    David   Other  56.000000       PhD\n",
      "6  Himansh    Male  32.000000        UG\n",
      "7   Sachin    Male  36.000000        UG\n",
      "8  Srishti  Female   9.000000        PG\n",
      "9    Krish    Male  24.000000       PhD\n"
     ]
    }
   ],
   "source": [
    "median_age = data['Age'].median()\n",
    "data['Age'] = data['Age'].fillna(median_age)\n",
    "print(data)\n"
   ]
  },
  {
   "cell_type": "code",
   "execution_count": 35,
   "id": "04211bb4",
   "metadata": {},
   "outputs": [
    {
     "name": "stdout",
     "output_type": "stream",
     "text": [
      "      Name  Gender        Age Education\n",
      "0  Anushka  Female  26.000000        UG\n",
      "1   Raghav    Male  35.000000        PG\n",
      "2    Arnav   Other  12.000000       PhD\n",
      "3    Priya  Female  19.000000        PG\n",
      "4  Katrina  Female  27.666667       PhD\n",
      "5    David   Other  56.000000       PhD\n",
      "6  Himansh    Male  32.000000        UG\n",
      "7   Sachin    Male  36.000000        UG\n",
      "8  Srishti  Female   9.000000        PG\n",
      "9    Krish    Male  24.000000       PhD\n"
     ]
    }
   ],
   "source": [
    "mode_age = data['Age'].mode()\n",
    "data['Age'] = data['Age'].fillna(mode_age)\n",
    "print(data)"
   ]
  },
  {
   "cell_type": "markdown",
   "id": "8bf11fc0",
   "metadata": {},
   "source": [
    "# ORDINAL ENCODING"
   ]
  },
  {
   "cell_type": "code",
   "execution_count": null,
   "id": "8e69b98e",
   "metadata": {},
   "outputs": [
    {
     "data": {
      "text/plain": [
       "array(['UG', 'PG', 'PhD'], dtype=object)"
      ]
     },
     "execution_count": 29,
     "metadata": {},
     "output_type": "execute_result"
    }
   ],
   "source": [
    "E = data['Education'].unique()\n",
    "\n",
    "print(E)\n"
   ]
  },
  {
   "cell_type": "code",
   "execution_count": 38,
   "id": "b00ccb92",
   "metadata": {},
   "outputs": [
    {
     "name": "stdout",
     "output_type": "stream",
     "text": [
      "['UG', 'PG', 'PhD']\n"
     ]
    }
   ],
   "source": [
    "education_order = ['UG' , 'PG' , 'PhD']\n",
    "print(education_order)"
   ]
  },
  {
   "cell_type": "code",
   "execution_count": 39,
   "id": "a4e6d92f",
   "metadata": {},
   "outputs": [
    {
     "name": "stdout",
     "output_type": "stream",
     "text": [
      "[1, 2, 3, 2, 3, 3, 1, 1, 2, 3]\n"
     ]
    }
   ],
   "source": [
    "data_encoded = []\n",
    "for E in data['Education']:\n",
    "    value = education_order.index(E) + 1\n",
    "    data_encoded.append(value)\n",
    "print(data_encoded)"
   ]
  },
  {
   "cell_type": "code",
   "execution_count": 42,
   "id": "f90fb89c",
   "metadata": {},
   "outputs": [
    {
     "name": "stdout",
     "output_type": "stream",
     "text": [
      "      Name  Gender        Age Education  Education_encoded\n",
      "0  Anushka  Female  26.000000        UG                  1\n",
      "1   Raghav    Male  35.000000        PG                  2\n",
      "2    Arnav   Other  12.000000       PhD                  3\n",
      "3    Priya  Female  19.000000        PG                  2\n",
      "4  Katrina  Female  27.666667       PhD                  3\n",
      "5    David   Other  56.000000       PhD                  3\n",
      "6  Himansh    Male  32.000000        UG                  1\n",
      "7   Sachin    Male  36.000000        UG                  1\n",
      "8  Srishti  Female   9.000000        PG                  2\n",
      "9    Krish    Male  24.000000       PhD                  3\n"
     ]
    }
   ],
   "source": [
    "data['Education_encoded'] = data_encoded\n",
    "print(data)"
   ]
  },
  {
   "cell_type": "markdown",
   "id": "27be3364",
   "metadata": {},
   "source": [
    "# ONE HOT ENCODING"
   ]
  },
  {
   "cell_type": "code",
   "execution_count": 12,
   "id": "df1d43ea",
   "metadata": {},
   "outputs": [
    {
     "data": {
      "text/plain": [
       "array(['Female', 'Male', 'Other'], dtype=object)"
      ]
     },
     "execution_count": 12,
     "metadata": {},
     "output_type": "execute_result"
    }
   ],
   "source": [
    "GENDER = data['Gender'].unique()\n",
    "GENDER"
   ]
  },
  {
   "cell_type": "code",
   "execution_count": 24,
   "id": "b47edacd",
   "metadata": {},
   "outputs": [
    {
     "name": "stdout",
     "output_type": "stream",
     "text": [
      "[[1, 0, 0], [0, 1, 0], [0, 0, 1], [1, 0, 0], [1, 0, 0], [0, 0, 1], [0, 1, 0], [0, 1, 0], [1, 0, 0], [0, 1, 0]]\n"
     ]
    }
   ],
   "source": [
    "one_hot = []\n",
    "for g in data['Gender']:\n",
    "    row = []\n",
    "    for G in GENDER:\n",
    "        if g == G:\n",
    "            row.append(1)\n",
    "        else:\n",
    "            row.append(0)\n",
    "    one_hot.append(row)\n",
    "print(one_hot)\n"
   ]
  },
  {
   "cell_type": "code",
   "execution_count": 25,
   "id": "1dc69648",
   "metadata": {},
   "outputs": [
    {
     "name": "stdout",
     "output_type": "stream",
     "text": [
      "   Female  Male  Other\n",
      "0       1     0      0\n",
      "1       0     1      0\n",
      "2       0     0      1\n",
      "3       1     0      0\n",
      "4       1     0      0\n",
      "5       0     0      1\n",
      "6       0     1      0\n",
      "7       0     1      0\n",
      "8       1     0      0\n",
      "9       0     1      0\n"
     ]
    }
   ],
   "source": [
    "final = pd.DataFrame(one_hot , columns = GENDER)\n",
    "print(final)"
   ]
  },
  {
   "cell_type": "code",
   "execution_count": 27,
   "id": "cf687a90",
   "metadata": {},
   "outputs": [
    {
     "name": "stdout",
     "output_type": "stream",
     "text": [
      "   Gender  Female  Male  Other\n",
      "0  Female       1     0      0\n",
      "1    Male       0     1      0\n",
      "2   Other       0     0      1\n",
      "3  Female       1     0      0\n",
      "4  Female       1     0      0\n",
      "5   Other       0     0      1\n",
      "6    Male       0     1      0\n",
      "7    Male       0     1      0\n",
      "8  Female       1     0      0\n",
      "9    Male       0     1      0\n"
     ]
    }
   ],
   "source": [
    "data_encoded = pd.concat([data['Gender'] , final] , axis =1)\n",
    "print(data_encoded)"
   ]
  }
 ],
 "metadata": {
  "kernelspec": {
   "display_name": "Python 3",
   "language": "python",
   "name": "python3"
  },
  "language_info": {
   "codemirror_mode": {
    "name": "ipython",
    "version": 3
   },
   "file_extension": ".py",
   "mimetype": "text/x-python",
   "name": "python",
   "nbconvert_exporter": "python",
   "pygments_lexer": "ipython3",
   "version": "3.13.7"
  }
 },
 "nbformat": 4,
 "nbformat_minor": 5
}
